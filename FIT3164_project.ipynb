{
 "cells": [
  {
   "cell_type": "code",
   "execution_count": 3,
   "metadata": {},
   "outputs": [],
   "source": [
    "import pandas as pd\n",
    "import numpy as np\n",
    "import os"
   ]
  },
  {
   "cell_type": "code",
   "execution_count": 6,
   "metadata": {},
   "outputs": [],
   "source": [
    "dfs = []\n",
    "for filename in os.listdir('..\\\\data\\\\trainset_A'):\n",
    "    filename = '..\\\\data\\\\trainset_A\\\\' + filename\n",
    "    dfs.append(pd.read_csv(filename, sep=','))"
   ]
  },
  {
   "cell_type": "code",
   "execution_count": 11,
   "metadata": {},
   "outputs": [],
   "source": [
    "def first(x):\n",
    "    if x.first_valid_index() is None:\n",
    "        return None\n",
    "    else:\n",
    "        return x[x.first_valid_index()]\n",
    "\n",
    "def last(x):\n",
    "    if x.last_valid_index() is None:\n",
    "        return None\n",
    "    else:\n",
    "        return x[x.last_valid_index()]"
   ]
  },
  {
   "cell_type": "code",
   "execution_count": 12,
   "metadata": {},
   "outputs": [],
   "source": [
    "dfsmale = []\n",
    "dfsfemale = []\n",
    "leng = len(dfs)\n",
    "for i in range(leng):\n",
    "    dfs[i] = dfs[i].pivot(columns = 'Parameter', values = 'Value').replace(-1,np.NaN)\n",
    "    dfs[i]['RecordID'] = dfs[i]['RecordID'].fillna(dfs[i]['RecordID'].mean())\n",
    "    if dfs[i]['Gender'].mean() == 0:\n",
    "        dfsmale.append(dfs[i])\n",
    "    else:\n",
    "        dfsfemale.append(dfs[i])"
   ]
  },
  {
   "cell_type": "code",
   "execution_count": 36,
   "metadata": {},
   "outputs": [],
   "source": [
    "dfmale = pd.concat(dfsmale,sort = False)\n",
    "dffemale = pd.concat(dfsfemale, sort = False)\n",
    "\n",
    "static = ['Age','Gender','Height','ICUType','RecordID']\n",
    "male_static = dfmale[static].groupby(by = 'RecordID').agg(np.mean)\n",
    "female_static = dffemale[static].groupby(by = 'RecordID').agg(np.mean)\n",
    "\n",
    "static = static[:-1]\n",
    "\n",
    "male_dynamic = dfmale.drop(static,axis = 1)\n",
    "female_dynamic = dffemale.drop(static,axis = 1)\n",
    "\n",
    "male_count = male_dynamic.groupby(by='RecordID').agg(pd.DataFrame.count)\n",
    "male_count = male_count.add_suffix('_count')\n",
    "\n",
    "male_mini = male_dynamic.groupby(by = 'RecordID').agg(np.min)\n",
    "male_mini = male_mini.add_suffix('_mini')\n",
    "\n",
    "male_maxi = male_dynamic.groupby(by = 'RecordID').agg(np.max)\n",
    "male_maxi = male_maxi.add_suffix('_maxi')\n",
    "\n",
    "male_first = male_dynamic.groupby(by = 'RecordID').agg(first)\n",
    "male_first = male_first.add_suffix('_first')\n",
    "\n",
    "male_last = male_dynamic.groupby(by = 'RecordID').agg(last)\n",
    "male_last = male_last.add_suffix('_last')\n",
    "\n",
    "male_median = male_dynamic.groupby(by = 'RecordID').agg(np.median)\n",
    "male_median = male_median.add_suffix('_median')\n",
    "\n",
    "\n",
    "female_count = female_dynamic.groupby(by='RecordID').agg(pd.DataFrame.count)\n",
    "female_count = female_count.add_suffix('_count')\n",
    "\n",
    "female_mini = female_dynamic.groupby(by = 'RecordID').agg(np.min)\n",
    "female_mini = female_mini.add_suffix('_mini')\n",
    "\n",
    "female_maxi = female_dynamic.groupby(by = 'RecordID').agg(np.max)\n",
    "female_maxi = female_maxi.add_suffix('_maxi')\n",
    "\n",
    "female_first = female_dynamic.groupby(by = 'RecordID').agg(first)\n",
    "female_first = female_first.add_suffix('_first')\n",
    "\n",
    "female_last = female_dynamic.groupby(by = 'RecordID').agg(last)\n",
    "female_last = female_last.add_suffix('_last')\n",
    "\n",
    "female_median = female_dynamic.groupby(by = 'RecordID').agg(np.median)\n",
    "female_median = female_median.add_suffix('_median')\n",
    "\n",
    "male = pd.concat([male_static, male_count, male_mini, male_maxi, male_first, male_last, male_median], axis = 1)\n",
    "female = pd.concat([female_static, female_count, female_mini, female_maxi, female_first, female_last,female_median], axis = 1)\n",
    "\n",
    "male = male.fillna(male.median())\n",
    "female = female.fillna(female.median())\n",
    "\n",
    "df = pd.concat([male, female],sort=False)\n",
    "df = df.fillna(df.median())\n",
    "\n",
    "df = pd.get_dummies(df, columns=['ICUType'], drop_first=True)"
   ]
  },
  {
   "cell_type": "code",
   "execution_count": 38,
   "metadata": {},
   "outputs": [],
   "source": [
    "df.to_csv('extract.csv')"
   ]
  },
  {
   "cell_type": "code",
   "execution_count": 45,
   "metadata": {},
   "outputs": [],
   "source": [
    "data = pd.read_csv('extract.csv')\n",
    "outcome = pd.read_csv('outcome_A.txt')\n",
    "merged = pd.merge(data, outcome,sort=False)\n",
    "X = merged.drop(['SAPS-I','SOFA','Length_of_stay','Survival','In-hospital_death'], axis = 1)\n",
    "y = merged['In-hospital_death']"
   ]
  },
  {
   "cell_type": "code",
   "execution_count": 49,
   "metadata": {},
   "outputs": [],
   "source": [
    "from sklearn.ensemble import RandomForestClassifier\n",
    "from sklearn.svm import SVC\n",
    "from sklearn.model_selection import cross_val_score"
   ]
  },
  {
   "cell_type": "code",
   "execution_count": 51,
   "metadata": {},
   "outputs": [
    {
     "name": "stdout",
     "output_type": "stream",
     "text": [
      "0.8732531125194531\n"
     ]
    }
   ],
   "source": [
    "clf = RandomForestClassifier(n_estimators=500)\n",
    "print(cross_val_score(clf, X, y,scoring='accuracy',cv = 10).mean())"
   ]
  },
  {
   "cell_type": "code",
   "execution_count": 62,
   "metadata": {},
   "outputs": [],
   "source": [
    "clf = SVC(kernel='poly')"
   ]
  },
  {
   "cell_type": "code",
   "execution_count": 57,
   "metadata": {},
   "outputs": [],
   "source": [
    "from sklearn.model_selection import KFold\n",
    "from sklearn import metrics"
   ]
  },
  {
   "cell_type": "code",
   "execution_count": null,
   "metadata": {},
   "outputs": [],
   "source": [
    "kf = KFold(n_splits=10)\n",
    "scores = []\n",
    "for train_index, test_index in kf.split(X):\n",
    "    X_train, X_test = X.iloc[train_index,:], X.iloc[test_index,:]\n",
    "    y_train, y_test = y[train_index], y[test_index]\n",
    "    clf.fit(X_train, y_train)\n",
    "    y_pred = clf.predict(X_test)\n",
    "    tn, fp, fn, tp = metrics.confusion_matrix(y_test, y_pred).ravel()\n",
    "    score = min(tp/(tp+fn),tp/(tp+fp))\n",
    "    print(score)"
   ]
  },
  {
   "cell_type": "code",
   "execution_count": null,
   "metadata": {},
   "outputs": [],
   "source": []
  }
 ],
 "metadata": {
  "kernelspec": {
   "display_name": "Python 3",
   "language": "python",
   "name": "python3"
  },
  "language_info": {
   "codemirror_mode": {
    "name": "ipython",
    "version": 3
   },
   "file_extension": ".py",
   "mimetype": "text/x-python",
   "name": "python",
   "nbconvert_exporter": "python",
   "pygments_lexer": "ipython3",
   "version": "3.6.6"
  }
 },
 "nbformat": 4,
 "nbformat_minor": 2
}
